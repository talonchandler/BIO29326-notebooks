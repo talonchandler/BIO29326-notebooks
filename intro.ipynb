{
 "cells": [
  {
   "cell_type": "markdown",
   "metadata": {},
   "source": [
    "## Introduction to Jupyter Notebooks\n",
    "\n",
    "We'll demonstrate some of of the Jupyter Notebook features that we'll use in BIO29326.\n",
    "\n",
    "---\n",
    "\n",
    "Jupyter notebooks consist of **cells** that can include text or code. \n",
    "\n",
    "TODO: Double click on this text. The formatted text should turn into an editable text box. Edit the text then \"run\" the cell by pressing Shift + Enter. \n",
    "\n",
    "You can format text using Markdown like this: *italic*, **bold**, `monospace`. You can also format mathematics using MathJax (similar to $\\rm\\LaTeX$) like this: $f(x) = \\int_{\\mathbb{R}} d\\nu\\, F(\\nu)\\,\\text{exp}[i2\\pi x\\nu]$.\n",
    "\n",
    "---\n",
    "\n",
    "You can operate on cells using the buttons in the toolbar. \n",
    "\n",
    "TODO: Use the + button in the toolbar to add a new cell. \n",
    "\n",
    "TODO: Use the $\\uparrow$ and $\\downarrow$ buttons in the toolbar to rearrange the cells.\n",
    "\n",
    "TODO: Change your new cell to a Markdown cell and edit the text in the box. \n",
    "\n",
    "---\n",
    "\n",
    "We can use code cells to write and run Python code like this:"
   ]
  },
  {
   "cell_type": "code",
   "execution_count": null,
   "metadata": {
    "collapsed": true
   },
   "outputs": [],
   "source": [
    "2+2"
   ]
  },
  {
   "cell_type": "markdown",
   "metadata": {},
   "source": [
    "TODO: Highlight the cell above and run it with Shift + Enter. \n",
    "\n",
    "The top right hand corner of the notebook should say \"Python 3\" which means that you can write and run Python code. You can also use other languages including Julia, R, Haskell, and Ruby. \n",
    "\n",
    "---\n",
    "\n",
    "We can also create interactive plots. \n",
    "\n",
    "TODO: Run the code cell below and move the slider. The plot should change. \n",
    "\n",
    "TODO: Read the code below and get a rough understanding what each piece does. \n",
    "\n",
    "TODO: Use the square \"Zoom to rectangle\" button to zoom in on a region of the plot, and notice that the plot is not very smooth near the peaks and valleys of the function. Modify the code to make the plot smoother. Hint: you may need to google the documentation for the np.linspace function."
   ]
  },
  {
   "cell_type": "code",
   "execution_count": null,
   "metadata": {},
   "outputs": [],
   "source": [
    "# Importing libraries\n",
    "from ipywidgets import *\n",
    "import matplotlib as mpl\n",
    "import matplotlib.pyplot as plt\n",
    "from mpl_toolkits.mplot3d import Axes3D\n",
    "mpl.rcParams.update(mpl.rcParamsDefault)\n",
    "import numpy as np\n",
    "%matplotlib notebook\n",
    "\n",
    "# Create a figure \n",
    "fig = plt.figure(figsize=(3,3))\n",
    "ax = fig.add_subplot(1, 1, 1)\n",
    "\n",
    "# Generate x and y values for the line\n",
    "x = np.linspace(0, 2*np.pi)\n",
    "line, = ax.plot(x, np.sin(x))\n",
    "\n",
    "# Make an updating function\n",
    "def update(frequency = 1.0):\n",
    "    line.set_ydata(np.sin(frequency * x))\n",
    "    fig.canvas.draw()\n",
    "\n",
    "# Add an interactive widget\n",
    "interact(update, frequency=(0,2,0.1));"
   ]
  },
  {
   "cell_type": "markdown",
   "metadata": {},
   "source": [
    "---\n",
    "\n",
    "Matplotlib contains an excellent set of plotting tools.\n",
    "\n",
    "TODO: Run the cell below and interact with the 3D plot by dragging it. \n",
    "\n",
    "TODO: Go to the matplotlib example gallery https://matplotlib.org/gallery.html, choose a plot from the list, and copy the example code into a cell to get it to run in a Jupyter cell. \n",
    "\n",
    "BONUS TODO: Using the slider example above as a template, add a slider to the plot that you created. "
   ]
  },
  {
   "cell_type": "code",
   "execution_count": null,
   "metadata": {
    "collapsed": true
   },
   "outputs": [],
   "source": [
    "fig = plt.figure(figsize=(3, 3))\n",
    "ax = fig.gca(projection='3d')\n",
    "x = np.linspace(-5, 5, 200)\n",
    "y = x\n",
    "X,Y = np.meshgrid(x, y)\n",
    "Z = np.exp(-X**2 - Y**2)\n",
    "surf = ax.plot_wireframe(X, Y, Z, rstride=6, cstride=6, color='g', alpha=0.7)\n",
    "\n",
    "ax.set_zlim(0, 1)\n",
    "\n",
    "ax.zaxis.set_major_locator(plt.LinearLocator(10))\n",
    "ax.zaxis.set_major_formatter(plt.FormatStrFormatter('%.02f'))\n",
    "\n",
    "ax.set_xlabel('X')\n",
    "ax.set_ylabel('Y')\n",
    "ax.set_zlabel('p(x)')\n",
    "\n",
    "plt.title('Bivariate Gaussian')\n",
    "\n",
    "plt.show()"
   ]
  },
  {
   "cell_type": "code",
   "execution_count": null,
   "metadata": {
    "collapsed": true
   },
   "outputs": [],
   "source": []
  }
 ],
 "metadata": {
  "kernelspec": {
   "display_name": "Python 3",
   "language": "python",
   "name": "python3"
  },
  "language_info": {
   "codemirror_mode": {
    "name": "ipython",
    "version": 3
   },
   "file_extension": ".py",
   "mimetype": "text/x-python",
   "name": "python",
   "nbconvert_exporter": "python",
   "pygments_lexer": "ipython3",
   "version": "3.6.8"
  }
 },
 "nbformat": 4,
 "nbformat_minor": 2
}
