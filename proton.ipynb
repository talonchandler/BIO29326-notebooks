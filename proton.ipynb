{
 "cells": [
  {
   "cell_type": "code",
   "execution_count": null,
   "metadata": {
    "collapsed": true
   },
   "outputs": [],
   "source": [
    "# Importing libraries\n",
    "from ipywidgets import *\n",
    "import matplotlib as mpl\n",
    "import matplotlib.pyplot as plt\n",
    "mpl.rcParams.update(mpl.rcParamsDefault)\n",
    "import numpy as np\n",
    "from scipy.ndimage import gaussian_filter1d \n",
    "%matplotlib notebook\n",
    "import warnings\n",
    "warnings.filterwarnings('ignore')"
   ]
  },
  {
   "cell_type": "markdown",
   "metadata": {},
   "source": [
    "A simple model for a proton beam's depth-dose curve is<br>\n",
    "\n",
    "$$D(x) = \\frac{1}{\\sqrt{d_o - x}}\\ast \\frac{1}{\\sqrt{2\\pi}\\sigma}\\text{exp}\\left[\\left(\\frac{x}{\\sigma}\\right)^2\\right],$$ <br>\n",
    "where $D(x)$ is the dose at depth $x$, $d_0$ is the maximum depth, $\\ast$ denotes a convolution, and the width of the Gaussian function $\\sigma$ models the the range of energies in the proton beam.\n",
    "\n",
    "For more details about this model and more accurate models see\n",
    "Bortfeld, T. (1997), An analytical approximation of the Bragg curve for therapeutic proton beams. Med. Phys., 24: 2024-2033."
   ]
  },
  {
   "cell_type": "code",
   "execution_count": null,
   "metadata": {
    "scrolled": false
   },
   "outputs": [],
   "source": [
    "f, ax = plt.subplots(1, 1, figsize=(4,3))\n",
    "ax.set_xlabel('Depth (cm)')\n",
    "ax.set_ylabel('Relative Dose')\n",
    "ax.set_xlim([0,5])\n",
    "ax.set_ylim([0,1])\n",
    "plt.tight_layout()\n",
    "\n",
    "def D(x, d0):\n",
    "    y = np.where(x < d0 - 1e-2, (d0 - x)**(-0.5), 0)\n",
    "    return 0.1*gaussian_filter1d(y, sigma=5e-3*N)\n",
    "\n",
    "N = 2000\n",
    "x = np.linspace(0, 5, N)\n",
    "linef, = ax.plot(x, D(x, 2.5), '-k')\n",
    "\n",
    "def update(d0 = 2.5):\n",
    "    linef.set_ydata(D(x, d0))\n",
    "\n",
    "interact(update, d0=(1.0, 4.0, 0.01));"
   ]
  },
  {
   "cell_type": "markdown",
   "metadata": {},
   "source": [
    "---\n",
    "A single Bragg peak is not a very useful dose distribution for treating patients. We can create a \"spread-out Bragg peak\" by adding the weighted contributions from single Bragg peaks. \n",
    "\n",
    "TODO: Modify the weights and depths of the beamlets to create a spread-out Bragg peak between 2 and 3 cms. "
   ]
  },
  {
   "cell_type": "code",
   "execution_count": null,
   "metadata": {
    "scrolled": true
   },
   "outputs": [],
   "source": [
    "f, ax = plt.subplots(1, 1, figsize=(4,3))\n",
    "ax.set_xlabel('Depth (cm)')\n",
    "ax.set_ylabel('Relative Dose')\n",
    "ax.set_xlim([0,5])\n",
    "ax.set_ylim([0,1.1])\n",
    "plt.tight_layout()\n",
    "\n",
    "N = 2000\n",
    "x = np.linspace(0, 5, N)\n",
    "total_dose = np.zeros_like(x)\n",
    "\n",
    "# Set weights and depths for proton beamlets\n",
    "weights = [1, 1]\n",
    "d0_list = [2.0, 2.5]\n",
    "\n",
    "# Plot beamlets\n",
    "for i, d0 in enumerate(d0_list):\n",
    "    dose = weights[i]*D(x, d0)\n",
    "    ax.plot(x, dose, '-', lw=0.5)\n",
    "    total_dose += dose\n",
    "    \n",
    "# Plot total\n",
    "ax.plot(x, total_dose/np.max(total_dose), '-k')"
   ]
  }
 ],
 "metadata": {
  "kernelspec": {
   "display_name": "Python 3",
   "language": "python",
   "name": "python3"
  },
  "language_info": {
   "codemirror_mode": {
    "name": "ipython",
    "version": 3
   },
   "file_extension": ".py",
   "mimetype": "text/x-python",
   "name": "python",
   "nbconvert_exporter": "python",
   "pygments_lexer": "ipython3",
   "version": "3.6.8"
  }
 },
 "nbformat": 4,
 "nbformat_minor": 2
}
